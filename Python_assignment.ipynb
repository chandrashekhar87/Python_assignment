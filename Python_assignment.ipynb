{
 "cells": [
  {
   "cell_type": "markdown",
   "id": "6d7fcd80-3f5a-4f47-a19b-90519d7a9806",
   "metadata": {},
   "source": [
    "## Question 1"
   ]
  },
  {
   "cell_type": "raw",
   "id": "34660575-8a9e-4a02-8fa0-2520a02fe238",
   "metadata": {},
   "source": [
    "Write a python code for converting integer values to Indian currency notations, without\n",
    "using the currency libraries\n",
    "Example:\n",
    "input: 504678\n",
    "output: 5,04,67"
   ]
  },
  {
   "cell_type": "code",
   "execution_count": 1,
   "id": "b413d851-a9dd-40b2-b6dd-93de3a112f4e",
   "metadata": {},
   "outputs": [
    {
     "name": "stdout",
     "output_type": "stream",
     "text": [
      "Formatted Indian currency notation: 5,04,678\n"
     ]
    }
   ],
   "source": [
    "def convert_to_indian_currency(number):\n",
    "    # Convert the number to a string\n",
    "    number_str = str(number)\n",
    "    \n",
    "    # Reverse the string to process from the least significant digit\n",
    "    reversed_str = number_str[::-1]\n",
    "    \n",
    "    # Initialize an empty list to store the parts of the number\n",
    "    parts = []\n",
    "    \n",
    "    # Process the first three digits\n",
    "    parts.append(reversed_str[:3])\n",
    "    \n",
    "    # Process the remaining digits in pairs of two\n",
    "    for i in range(3, len(reversed_str), 2):\n",
    "        parts.append(reversed_str[i:i+2])\n",
    "    \n",
    "    # Join the parts with commas and reverse the final string\n",
    "    indian_currency = ','.join(parts)[::-1]\n",
    "    \n",
    "    return indian_currency\n",
    "\n",
    "# Example usage\n",
    "number = 504678\n",
    "formatted_number = convert_to_indian_currency(number)\n",
    "print(f\"Formatted Indian currency notation: {formatted_number}\")\n"
   ]
  },
  {
   "cell_type": "markdown",
   "id": "ebaf3894-9adc-4ae5-828c-4138ab026a2f",
   "metadata": {},
   "source": [
    "## Question 2"
   ]
  },
  {
   "cell_type": "markdown",
   "id": "a6030a0b-b687-497e-b32a-8cf6c88bf430",
   "metadata": {},
   "source": [
    "You won’t get caught if you hide behind someone.”\n",
    "Sang-Woo advises Gi-Hun to hide behind someone to avoid getting shot.\n",
    "Gi-Hun follows Sang-Woo's advice and hides behind Ali, who saved his life earlier. Gi-Hun and Ali\n",
    "both have the same height, K\n",
    ". Many players saw this trick and also started hiding behind Ali.\n",
    "Now, there are N\n",
    "players standing between Gi-Hun and Ali in a straight line, with the ith player having height Hi\n",
    ". Gi-Hun wants to know the minimum number of players who need to get shot so that Ali is visible\n",
    "in his line of sight."
   ]
  },
  {
   "cell_type": "code",
   "execution_count": 2,
   "id": "3826438f-ab70-482f-9bdf-b623862f228c",
   "metadata": {},
   "outputs": [
    {
     "name": "stdout",
     "output_type": "stream",
     "text": [
      "2\n",
      "1\n",
      "0\n"
     ]
    }
   ],
   "source": [
    "def minimum_shots(T, test_cases):\n",
    "    results = []\n",
    "    \n",
    "    for i in range(T):\n",
    "        N, K = test_cases[i][0]\n",
    "        heights = test_cases[i][1]\n",
    "        \n",
    "        # Count players with height > K\n",
    "        count = 0\n",
    "        for height in heights:\n",
    "            if height > K:\n",
    "                count += 1\n",
    "        \n",
    "        results.append(count)\n",
    "    \n",
    "    return results\n",
    "\n",
    "# Example usage\n",
    "T = 3\n",
    "test_cases = [\n",
    "    [(4, 10), [2, 13, 4, 16]],\n",
    "    [(5, 8), [9, 3, 8, 8, 4]],\n",
    "    [(4, 6), [1, 2, 3, 4]]\n",
    "]\n",
    "\n",
    "results = minimum_shots(T, test_cases)\n",
    "for result in results:\n",
    "    print(result)\n"
   ]
  },
  {
   "cell_type": "code",
   "execution_count": null,
   "id": "73d14c4b-81c1-43fd-b5d6-cf0794de12e5",
   "metadata": {},
   "outputs": [],
   "source": []
  }
 ],
 "metadata": {
  "kernelspec": {
   "display_name": "Python 3 (ipykernel)",
   "language": "python",
   "name": "python3"
  },
  "language_info": {
   "codemirror_mode": {
    "name": "ipython",
    "version": 3
   },
   "file_extension": ".py",
   "mimetype": "text/x-python",
   "name": "python",
   "nbconvert_exporter": "python",
   "pygments_lexer": "ipython3",
   "version": "3.11.5"
  }
 },
 "nbformat": 4,
 "nbformat_minor": 5
}
